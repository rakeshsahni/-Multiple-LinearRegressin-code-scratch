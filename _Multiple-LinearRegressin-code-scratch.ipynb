{
 "cells": [
  {
   "cell_type": "code",
   "execution_count": 73,
   "id": "fbf45797",
   "metadata": {},
   "outputs": [],
   "source": [
    "import numpy as np\n",
    "import pandas as pd\n",
    "from sklearn.datasets import load_diabetes"
   ]
  },
  {
   "cell_type": "code",
   "execution_count": 74,
   "id": "5266a9aa",
   "metadata": {},
   "outputs": [
    {
     "data": {
      "text/plain": [
       "((442, 10), (442,))"
      ]
     },
     "execution_count": 74,
     "metadata": {},
     "output_type": "execute_result"
    }
   ],
   "source": [
    "X, y = load_diabetes()['data'], load_diabetes()['target']\n",
    "X.shape, y.shape"
   ]
  },
  {
   "cell_type": "code",
   "execution_count": 75,
   "id": "3a779418",
   "metadata": {},
   "outputs": [],
   "source": [
    "from sklearn.model_selection import train_test_split"
   ]
  },
  {
   "cell_type": "code",
   "execution_count": 76,
   "id": "124f8c48",
   "metadata": {},
   "outputs": [
    {
     "data": {
      "text/plain": [
       "((353, 10), (353,), (89, 10), (89,))"
      ]
     },
     "execution_count": 76,
     "metadata": {},
     "output_type": "execute_result"
    }
   ],
   "source": [
    "X_train, X_test, y_train, y_test = train_test_split(X, y, test_size=0.2, random_state=2)\n",
    "X_train.shape, y_train.shape, X_test.shape, y_test.shape"
   ]
  },
  {
   "cell_type": "code",
   "execution_count": 77,
   "id": "7e50a39a",
   "metadata": {},
   "outputs": [],
   "source": [
    "class Mlr : \n",
    "    \n",
    "    def __init__(self) : \n",
    "        self.coef_ = None\n",
    "        self.intercept_ = None\n",
    "        self.B = None\n",
    "        \n",
    "    def fit(self, X, Y) :\n",
    "        row, col = X.shape\n",
    "        X_final = np.hstack([np.ones([row,1]), X])\n",
    "        # xt_x_invert = np.invert( np.dot( np.transpose( X_final ), X_final) ) \n",
    "        # xt_x_invert_xt = np.dot( xt_x_invert, np.transpose( X_final ) )\n",
    "        \n",
    "        self.B = np.linalg.inv(np.dot(X_final.T, X_final)).dot(X_final.T).dot(Y) \n",
    "        \n",
    "    \n",
    "    def predict(self, X) : \n",
    "        row, col = X.shape\n",
    "        X_final = np.hstack([np.ones([row,1]), X])\n",
    "        return np.dot(X_final, self.B)"
   ]
  },
  {
   "cell_type": "code",
   "execution_count": 78,
   "id": "8ca8c711",
   "metadata": {},
   "outputs": [],
   "source": [
    "mlr = Mlr()"
   ]
  },
  {
   "cell_type": "code",
   "execution_count": 79,
   "id": "d78d9d99",
   "metadata": {},
   "outputs": [
    {
     "data": {
      "text/plain": [
       "array([[1.],\n",
       "       [1.]])"
      ]
     },
     "execution_count": 79,
     "metadata": {},
     "output_type": "execute_result"
    }
   ],
   "source": [
    "np.ones([2,1])"
   ]
  },
  {
   "cell_type": "code",
   "execution_count": 80,
   "id": "68e80f75",
   "metadata": {},
   "outputs": [],
   "source": [
    "mlr.fit(X_train, y_train)"
   ]
  },
  {
   "cell_type": "code",
   "execution_count": 81,
   "id": "ba80d549",
   "metadata": {},
   "outputs": [
    {
     "data": {
      "text/plain": [
       "array([ 151.88334521,   -9.16088483, -205.46225988,  516.68462383,\n",
       "        340.62734108, -895.54360867,  561.21453306,  153.88478595,\n",
       "        126.73431596,  861.12139955,   52.41982836])"
      ]
     },
     "execution_count": 81,
     "metadata": {},
     "output_type": "execute_result"
    }
   ],
   "source": [
    "mlr.B"
   ]
  },
  {
   "cell_type": "code",
   "execution_count": 82,
   "id": "10c6df12",
   "metadata": {},
   "outputs": [
    {
     "data": {
      "text/plain": [
       "array([154.1235067 , 204.81721599, 124.92988001, 106.09339576,\n",
       "       258.53035681, 256.32953702, 118.75258786, 119.52147402,\n",
       "       101.50717468, 190.54137158, 141.70360267, 172.51631204,\n",
       "       174.34089304, 134.81184017, 294.13950798,  94.11403289,\n",
       "       211.97052873, 156.49984762, 134.20709632, 119.62534726,\n",
       "       148.88045343, 165.00378118, 151.09977307, 176.03719872,\n",
       "       133.27651748, 221.29531227, 197.17482787,  96.15923158,\n",
       "        50.26531577, 230.48342249, 242.06266394, 114.1153262 ,\n",
       "        67.0785352 ,  94.53179042, 201.21593262, 167.05306138,\n",
       "       159.87838519, 192.78601513, 114.49291816, 233.4825497 ,\n",
       "       140.82309666, 121.06814332, 192.27431013, 191.13157307,\n",
       "       179.1698153 , 148.35140027, 163.47610288, 276.81203359,\n",
       "       100.17813072, 164.11265163, 255.81074398, 136.94979051,\n",
       "       152.37507828, 107.92662528, 194.21661635,  77.35015426,\n",
       "       118.50951725,  68.38527563, 154.29094022, 162.48905632,\n",
       "       168.36590928, 156.8764705 ,  97.13958436, 238.17121803,\n",
       "       145.46093854, 117.65678691, 168.88768692, 198.38893625,\n",
       "       118.24408332, 124.64831033, 223.17842907, 200.62634508,\n",
       "       129.54591274, 158.1553552 , 154.33593871, 114.47109854,\n",
       "        70.4524892 ,  76.39237963, 172.41319558,  80.56189628,\n",
       "        80.27309695,  89.46135201, 186.21265361, 275.46607679,\n",
       "       208.26816596, 143.7962915 , 291.28438095, 206.32601303,\n",
       "        94.22801028])"
      ]
     },
     "execution_count": 82,
     "metadata": {},
     "output_type": "execute_result"
    }
   ],
   "source": [
    "y_pred_mlr = mlr.predict(X_test)\n",
    "y_pred_mlr"
   ]
  },
  {
   "cell_type": "code",
   "execution_count": 83,
   "id": "57c1288b",
   "metadata": {},
   "outputs": [
    {
     "data": {
      "text/plain": [
       "array([ 73., 233.,  97., 111., 277., 341.,  64.,  68.,  65., 178., 142.,\n",
       "        77., 244., 115., 258.,  87., 220.,  86.,  74., 132., 136., 220.,\n",
       "        91., 235., 148., 317., 131.,  84.,  65., 217., 306.,  79., 158.,\n",
       "        54., 123., 174., 237., 212., 179., 281., 187., 200.,  68., 163.,\n",
       "       141., 202., 178., 242.,  47., 131., 243., 142., 200.,  89., 232.,\n",
       "        55., 253., 128., 104., 184., 110., 198.,  81., 195., 150.,  63.,\n",
       "       151., 233., 178.,  84., 237., 109., 131., 252., 200., 160., 200.,\n",
       "        51., 111.,  77., 201.,  88.,  78., 243., 268.,  55., 270., 288.,\n",
       "        91.])"
      ]
     },
     "execution_count": 83,
     "metadata": {},
     "output_type": "execute_result"
    }
   ],
   "source": [
    "y_test"
   ]
  },
  {
   "cell_type": "code",
   "execution_count": 84,
   "id": "698d3b8d",
   "metadata": {},
   "outputs": [],
   "source": [
    "from sklearn.linear_model import LinearRegression\n",
    "from sklearn.metrics import r2_score"
   ]
  },
  {
   "cell_type": "code",
   "execution_count": 85,
   "id": "fd324269",
   "metadata": {},
   "outputs": [
    {
     "data": {
      "text/plain": [
       "0.4399387660024642"
      ]
     },
     "execution_count": 85,
     "metadata": {},
     "output_type": "execute_result"
    }
   ],
   "source": [
    "r2_score(y_test, y_pred_mlr)"
   ]
  },
  {
   "cell_type": "code",
   "execution_count": 86,
   "id": "bc9805bc",
   "metadata": {},
   "outputs": [],
   "source": [
    "lr = LinearRegression()"
   ]
  },
  {
   "cell_type": "code",
   "execution_count": 87,
   "id": "9d806569",
   "metadata": {},
   "outputs": [
    {
     "data": {
      "text/plain": [
       "LinearRegression()"
      ]
     },
     "execution_count": 87,
     "metadata": {},
     "output_type": "execute_result"
    }
   ],
   "source": [
    "lr.fit(X_train, y_train)"
   ]
  },
  {
   "cell_type": "code",
   "execution_count": 88,
   "id": "1230e702",
   "metadata": {},
   "outputs": [
    {
     "data": {
      "text/plain": [
       "array([154.1235067 , 204.81721599, 124.92988001, 106.09339576,\n",
       "       258.53035681, 256.32953702, 118.75258786, 119.52147402,\n",
       "       101.50717468, 190.54137158, 141.70360267, 172.51631204,\n",
       "       174.34089304, 134.81184017, 294.13950798,  94.11403289,\n",
       "       211.97052873, 156.49984762, 134.20709632, 119.62534726,\n",
       "       148.88045343, 165.00378118, 151.09977307, 176.03719872,\n",
       "       133.27651748, 221.29531227, 197.17482787,  96.15923158,\n",
       "        50.26531577, 230.48342249, 242.06266394, 114.1153262 ,\n",
       "        67.0785352 ,  94.53179042, 201.21593262, 167.05306138,\n",
       "       159.87838519, 192.78601513, 114.49291816, 233.4825497 ,\n",
       "       140.82309666, 121.06814332, 192.27431013, 191.13157307,\n",
       "       179.1698153 , 148.35140027, 163.47610288, 276.81203359,\n",
       "       100.17813072, 164.11265163, 255.81074398, 136.94979051,\n",
       "       152.37507828, 107.92662528, 194.21661635,  77.35015426,\n",
       "       118.50951725,  68.38527563, 154.29094022, 162.48905632,\n",
       "       168.36590928, 156.8764705 ,  97.13958436, 238.17121803,\n",
       "       145.46093854, 117.65678691, 168.88768692, 198.38893625,\n",
       "       118.24408332, 124.64831033, 223.17842907, 200.62634508,\n",
       "       129.54591274, 158.1553552 , 154.33593871, 114.47109854,\n",
       "        70.4524892 ,  76.39237963, 172.41319558,  80.56189628,\n",
       "        80.27309695,  89.46135201, 186.21265361, 275.46607679,\n",
       "       208.26816596, 143.7962915 , 291.28438095, 206.32601303,\n",
       "        94.22801028])"
      ]
     },
     "execution_count": 88,
     "metadata": {},
     "output_type": "execute_result"
    }
   ],
   "source": [
    "y_pred_lr = lr.predict(X_test)\n",
    "y_pred_lr"
   ]
  },
  {
   "cell_type": "code",
   "execution_count": 89,
   "id": "56f21c0f",
   "metadata": {},
   "outputs": [
    {
     "data": {
      "text/plain": [
       "(0.4399387660024645, 0.4399387660024642)"
      ]
     },
     "execution_count": 89,
     "metadata": {},
     "output_type": "execute_result"
    }
   ],
   "source": [
    "r2_score(y_test, y_pred_lr), r2_score(y_test, y_pred_mlr)"
   ]
  },
  {
   "cell_type": "code",
   "execution_count": null,
   "id": "97e9fd98",
   "metadata": {},
   "outputs": [],
   "source": []
  }
 ],
 "metadata": {
  "kernelspec": {
   "display_name": "Python 3 (ipykernel)",
   "language": "python",
   "name": "python3"
  },
  "language_info": {
   "codemirror_mode": {
    "name": "ipython",
    "version": 3
   },
   "file_extension": ".py",
   "mimetype": "text/x-python",
   "name": "python",
   "nbconvert_exporter": "python",
   "pygments_lexer": "ipython3",
   "version": "3.9.7"
  }
 },
 "nbformat": 4,
 "nbformat_minor": 5
}
